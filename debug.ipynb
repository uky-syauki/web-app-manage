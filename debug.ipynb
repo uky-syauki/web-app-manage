{
 "cells": [
  {
   "cell_type": "code",
   "execution_count": 29,
   "metadata": {},
   "outputs": [],
   "source": [
    "import cv2 as cv\n",
    "import numpy as np\n",
    "import base64\n",
    "import os\n",
    "from PIL import Image\n",
    "\n",
    "class OPENCV:\n",
    "    def __init__(self):\n",
    "        self.face_cascade = cv.CascadeClassifier('cascade/face_detect.xml')\n",
    "        self.eye_cascade = cv.CascadeClassifier('cascade/eye_detect.xml')\n",
    "        self.recognition = cv.face.LBPHFaceRecognizer_create()\n",
    "        self.path_dataset = 'dataset/'\n",
    "        self.path_latih = 'training/latih.yml'\n",
    "        self.path_sampleimg = 'sampleimg/'\n",
    "    def set_path(self):\n",
    "        if not os.path.exists(self.path_dataset):\n",
    "            os.mkdir(self.path_dataset)\n",
    "        if not os.path.exists(self.path_latih):\n",
    "            os.mkdir(self.path_latih)\n",
    "        if not os.path.exists(self.path_sampleimg):\n",
    "            os.mkdir(self.path_sampleimg)\n",
    "    def set_path_sampleimg_user(self, name):\n",
    "        self.set_path()\n",
    "        if not os.path.exists(self.path_sampleimg):\n",
    "            os.mkdir(self.path_sampleimg)\n",
    "        if not os.path.exists(self.path_sampleimg+name):\n",
    "            os.mkdir(self.path_sampleimg+name)\n",
    "    def add_sampleimg(self, user ,foto):\n",
    "        try:\n",
    "            self.set_path_sampleimg_user(user.username)\n",
    "            jumlah = len(os.listdir(self.path_sampleimg+user.username)) + 1\n",
    "            image = foto.split(',')[1]\n",
    "            image_bin = image.encode('utf-8')\n",
    "            image_np = np.frombuffer(base64.b64decode(image_bin), dtype=np.uint8)\n",
    "            img = cv.imdecode(image_np, cv.IMREAD_COLOR)\n",
    "            gray = cv.cvtColor(img, cv.COLOR_BGR2GRAY)\n",
    "            wajah = self.face_cascade.detectMultiScale(gray, scaleFactor=1.3, minNeighbors=5)\n",
    "            counter = 0\n",
    "            for (x, y, w, h) in wajah:\n",
    "                if counter == 0:\n",
    "                    counter += 1\n",
    "                mata = self.eye_cascade.detectMultiScale(gray[y:y+h, x:x+w], scaleFactor=1.3, minNeighbors=5)\n",
    "                for (x2, y2, w2, h2) in mata:\n",
    "                    if counter == 2:\n",
    "                        if jumlah <= 10:\n",
    "                            fnama = f\"{self.path_sampleimg}{user.username}/{user.username}.{user.id}.{jumlah}.jpg\"\n",
    "                            cv.imwrite(fnama, img)\n",
    "                    counter += 1\n",
    "            print(f\"[INFO] > Menyimpan {fnama}\")\n",
    "        except:\n",
    "            print(\"[INFO] > Gagal Menyimpan\")\n",
    "    def update_dataset(self, user):\n",
    "        path = self.path_sampleimg+user.username\n",
    "        daftar_sampleimg = os.listdir(path)\n",
    "        # jumlah = 0\n",
    "        if len(daftar_sampleimg) > 0:\n",
    "            for isi in daftar_sampleimg:\n",
    "                counter = 0\n",
    "                img = cv.imread(f'{path}/{isi}')\n",
    "                gray = cv.cvtColor(img, cv.COLOR_BGR2GRAY)\n",
    "                wajah = self.face_cascade.detectMultiScale(gray, scaleFactor=1.3, minNeighbors=5)\n",
    "                for (x, y, w, h) in wajah:\n",
    "                    if counter == 0:\n",
    "                        counter += 1\n",
    "                    mata = self.eye_cascade.detectMultiScale(gray[y:y+h, x:x+w], scaleFactor=1.3, minNeighbors=5)\n",
    "                    for (x2, y2, w2, h2) in mata:\n",
    "                        if counter > 0:\n",
    "                            counter += 1\n",
    "                        if counter == 2:\n",
    "                            # jumlah += 1\n",
    "                            cv.imwrite(f'{self.path_dataset}{isi}', gray[y:y+h, x:x+w])\n",
    "                # counter = 0\n",
    "        self.latih_dataset()\n",
    "    def latih_dataset(self):\n",
    "        print('[INFO]: Start training mohon tunggu')\n",
    "        list_image = os.listdir(self.path_dataset)\n",
    "        sample_wajah = []\n",
    "        ids = []\n",
    "        for isi in list_image:\n",
    "            PILimage = Image.open(self.path_dataset+isi).convert('L')\n",
    "            img_numpy = np.array(PILimage, 'uint8')\n",
    "            id = int(os.path.split(isi)[-1].split(\".\")[1])\n",
    "            sample_wajah.append(img_numpy)\n",
    "            ids.append(id)\n",
    "\n",
    "        self.recognition.train(sample_wajah, np.array(ids))\n",
    "        self.recognition.write(self.path_latih)\n",
    "        print('[INFO]: Latih dataset selesai..')\n",
    "    def deteksi_wajah(self, path_image):\n",
    "        self.recognition.read(self.path_latih)\n",
    "        # dummy data\n",
    "        id = 0\n",
    "        names = ['None', 'Uki'] # ganti dengan yang ada pada database\n",
    "        prediksi = 100\n",
    "        img = cv.imread(path_image)\n",
    "        gray = cv.cvtColor(img, cv.COLOR_BGR2GRAY)\n",
    "        wajah = self.face_cascade.detectMultiScale(gray, scaleFactor=1.3, minNeighbors=5)\n",
    "        for (x, y, w, h) in wajah:\n",
    "            id, prediksi = self.recognition.predict(gray[y:y+h, x:x+w])\n",
    "            id = names[id]\n",
    "            prediksi = (100 - round(prediksi))\n",
    "        return [id, prediksi]\n",
    "    def seleksi_sampleimg(self, user):\n",
    "        sampleimg_user_path = self.path_sampleimg+user.username\n",
    "        list_sampleimg_user = os.listdir(sampleimg_user_path)\n",
    "        hasil = {}\n",
    "        hstatc = []\n",
    "        for isi in list_sampleimg_user:\n",
    "            dapat = self.deteksi_wajah(sampleimg_user_path + '/' + isi)\n",
    "            hstatc.append([dapat[0], dapat[1], sampleimg_user_path + isi])\n",
    "        \n",
    "        hasil[user.username] = hstatc\n",
    "        return hasil\n",
    "    def jumlah_sampleimg_user(self,user):\n",
    "        return len(os.listdir((self.path_sampleimg+user.username)))"
   ]
  },
  {
   "cell_type": "code",
   "execution_count": 4,
   "metadata": {},
   "outputs": [],
   "source": [
    "class User:\n",
    "    username = 'Uki'\n",
    "    id = 1"
   ]
  },
  {
   "cell_type": "code",
   "execution_count": 30,
   "metadata": {},
   "outputs": [],
   "source": [
    "opencv = OPENCV()"
   ]
  },
  {
   "cell_type": "code",
   "execution_count": 17,
   "metadata": {},
   "outputs": [
    {
     "name": "stdout",
     "output_type": "stream",
     "text": [
      "[INFO]: Start training mohon tunggu\n",
      "[INFO]: Latih dataset selesai..\n"
     ]
    }
   ],
   "source": [
    "opencv.update_dataset(User)"
   ]
  },
  {
   "cell_type": "code",
   "execution_count": 28,
   "metadata": {},
   "outputs": [
    {
     "name": "stdout",
     "output_type": "stream",
     "text": [
      "['Uki', 85, 'sampleimg/UkiUki.1.9.jpg']\n",
      "['Uki', 85, 'sampleimg/UkiUki.1.6.jpg']\n",
      "['Uki', 85, 'sampleimg/UkiUki.1.5.jpg']\n",
      "['Uki', 89, 'sampleimg/UkiUki.1.3.jpg']\n",
      "['Uki', 85, 'sampleimg/UkiUki.1.8.jpg']\n",
      "['Uki', 85, 'sampleimg/UkiUki.1.2.jpg']\n",
      "['Uki', 86, 'sampleimg/UkiUki.1.4.jpg']\n",
      "['Uki', 84, 'sampleimg/UkiUki.1.1.jpg']\n",
      "['Uki', 88, 'sampleimg/UkiUki.1.7.jpg']\n",
      "['Uki', 84, 'sampleimg/UkiUki.1.10.jpg']\n"
     ]
    }
   ],
   "source": [
    "hasil = opencv.seleksi_sampleimg(User)\n",
    "for isi in hasil.keys():\n",
    "    for data in hasil[isi]:\n",
    "        print(data)"
   ]
  },
  {
   "cell_type": "code",
   "execution_count": 32,
   "metadata": {},
   "outputs": [
    {
     "name": "stdout",
     "output_type": "stream",
     "text": [
      "10\n"
     ]
    }
   ],
   "source": [
    "print(opencv.jumlah_sampleimg_user(User))"
   ]
  },
  {
   "cell_type": "code",
   "execution_count": 6,
   "metadata": {},
   "outputs": [
    {
     "name": "stdout",
     "output_type": "stream",
     "text": [
      "1\n"
     ]
    }
   ],
   "source": [
    "print(User.id)"
   ]
  },
  {
   "cell_type": "code",
   "execution_count": null,
   "metadata": {},
   "outputs": [],
   "source": [
    "import cv2 as cv\n",
    "import numpy as np\n",
    "import base64\n",
    "import os\n",
    "from PIL import Image\n",
    "\n",
    "class OPENCV:\n",
    "    def __init__(self):\n",
    "        self.face_cascade = cv.CascadeClassifier('cascade/face_detect.xml')\n",
    "        self.eye_cascade = cv.CascadeClassifier('cascade/eye_detect.xml')\n",
    "        self.recognition = cv.face.LBPHFaceRecognizer_create()\n",
    "        self.path_dataset = 'dataset/'\n",
    "        self.path_latih = 'training/latih.yml'\n",
    "        self.path_sampleimg = 'sampleimg/'\n",
    "    def set_path(self):\n",
    "        if not os.path.exists(self.path_dataset):\n",
    "            os.mkdir(self.path_dataset)\n",
    "        if not os.path.exists(self.path_latih):\n",
    "            os.mkdir(self.path_latih)\n",
    "        if not os.path.exists(self.path_sampleimg):\n",
    "            os.mkdir(self.path_sampleimg)\n",
    "    def set_path_sampleimg_user(self, name):\n",
    "        self.set_path()\n",
    "        if not os.path.exists(self.path_sampleimg):\n",
    "            os.mkdir(self.path_sampleimg)\n",
    "        if not os.path.exists(self.path_sampleimg+name):\n",
    "            os.mkdir(self.path_sampleimg+name)\n",
    "    def add_sampleimg(self, user ,foto):\n",
    "        try:\n",
    "            self.set_path_sampleimg_user(user.username)\n",
    "            jumlah = len(os.listdir(self.path_sampleimg+user.username)) + 1\n",
    "            image = foto.split(',')[1]\n",
    "            image_bin = image.encode('utf-8')\n",
    "            image_np = np.frombuffer(base64.b64decode(image_bin), dtype=np.uint8)\n",
    "            img = cv.imdecode(image_np, cv.IMREAD_COLOR)\n",
    "            gray = cv.cvtColor(img, cv.COLOR_BGR2GRAY)\n",
    "            wajah = self.face_cascade.detectMultiScale(gray, scaleFactor=1.3, minNeighbors=5)\n",
    "            counter = 0\n",
    "            for (x, y, w, h) in wajah:\n",
    "                if counter == 0:\n",
    "                    counter += 1\n",
    "                mata = self.eye_cascade.detectMultiScale(gray[y:y+h, x:x+w], scaleFactor=1.3, minNeighbors=5)\n",
    "                for (x2, y2, w2, h2) in mata:\n",
    "                    if counter == 2:\n",
    "                        if jumlah <= 10:\n",
    "                            fnama = f\"{self.path_sampleimg}{user.username}/{user.username}.{user.id}.{jumlah}.jpg\"\n",
    "                            cv.imwrite(fnama, img)\n",
    "                    counter += 1\n",
    "            print(f\"[INFO] > Menyimpan {fnama}\")\n",
    "        except:\n",
    "            print(\"[INFO] > Gagal Menyimpan\")\n",
    "    def update_dataset(self, user):\n",
    "        path = self.path_sampleimg+user.username\n",
    "        daftar_sampleimg = os.listdir(path)\n",
    "        # jumlah = 0\n",
    "        if len(daftar_sampleimg) > 0:\n",
    "            for isi in daftar_sampleimg:\n",
    "                counter = 0\n",
    "                img = cv.imread(f'{path}/{isi}')\n",
    "                gray = cv.cvtColor(img, cv.COLOR_BGR2GRAY)\n",
    "                wajah = self.face_cascade.detectMultiScale(gray, scaleFactor=1.3, minNeighbors=5)\n",
    "                for (x, y, w, h) in wajah:\n",
    "                    if counter == 0:\n",
    "                        counter += 1\n",
    "                    mata = self.eye_cascade.detectMultiScale(gray[y:y+h, x:x+w], scaleFactor=1.3, minNeighbors=5)\n",
    "                    for (x2, y2, w2, h2) in mata:\n",
    "                        if counter > 0:\n",
    "                            counter += 1\n",
    "                        if counter == 2:\n",
    "                            # jumlah += 1\n",
    "                            cv.imwrite(f'{self.path_dataset+user.username}.{isi}', gray[y:y+h, x:x+w])\n",
    "                # counter = 0\n",
    "        self.latih_dataset()\n",
    "    def latih_dataset(self):\n",
    "        print('[INFO]: Start training mohon tunggu')\n",
    "        list_image = os.listdir(self.path_dataset)\n",
    "        sample_wajah = []\n",
    "        ids = []\n",
    "        for isi in list_image:\n",
    "            PILimage = Image.open(self.path_dataset+isi).convert('L')\n",
    "            img_numpy = np.array(PILimage, 'uint8')\n",
    "            id = int(os.path.split(isi)[-1].split(\".\")[1])\n",
    "            sample_wajah.append(img_numpy)\n",
    "            ids.append(id)\n",
    "\n",
    "        self.recognition.traain((sample_wajah, np.array(ids)))\n",
    "        self.recognition.write(self.path_latih)\n",
    "        print('[INFO]: Latih dataset selesai..')\n",
    "    def deteksi_wajah(self, path_image):\n",
    "        self.recognition.read(self.path_latih)\n",
    "        # dummy data\n",
    "        id = 0\n",
    "        names = ['None', 'Uki'] # ganti dengan yang ada pada database\n",
    "        prediksi = 100\n",
    "        img = cv.imread(path_image)\n",
    "        gray = cv.cvtColor(img, cv.COLOR_BGR2GRAY)\n",
    "        wajah = self.face_cascade.detectMultiScale(gray, scaleFactor=1.3, minNeighbors=5)\n",
    "        for (x, y, w, h) in wajah:\n",
    "            id, prediksi = self.recognition.predict(gray[y:y+h, x:x+w])\n",
    "            id = names[id]\n",
    "            prediksi = (100 - round(prediksi))\n",
    "        return [id, prediksi]\n",
    "    def seleksi_sampleimg(self, user):\n",
    "        sampleimg_user_path = self.path_dataset+user.username\n",
    "        list_sampleimg_user = os.listdir(sampleimg_user_path)\n",
    "        hasil = {}\n",
    "        hstatc = []\n",
    "        for isi in list_sampleimg_user:\n",
    "            dapat = self.deteksi_wajah(sampleimg_user_path + '/' + isi)\n",
    "            hstatc.append([dapat[0], dapat[1], sampleimg_user_path + isi])\n",
    "        \n",
    "        hasil[user.username] = hstatc\n",
    "        \n",
    "\n",
    "    \n",
    "\n",
    "\n",
    "\n",
    "\n",
    "\n",
    "        \n",
    "#curr"
   ]
  },
  {
   "cell_type": "code",
   "execution_count": 38,
   "metadata": {},
   "outputs": [
    {
     "name": "stdout",
     "output_type": "stream",
     "text": [
      "[<User calgot1>, <User Uki>]\n"
     ]
    }
   ],
   "source": [
    "from app import app, db\n",
    "from app.models import Absen, User, Pertemuan\n",
    "\n",
    "app.app_context().push()\n",
    "\n",
    "alluser = User.query.all()\n",
    "print(alluser)\n",
    "\n",
    "\n",
    "pertemuan1 = Pertemuan(title='Pertemuan 1', materi=\"Bootstrap\")\n",
    "pertemuan2 = Pertemuan(title='Pertemuan 2', materi=\"python advance\")\n",
    "\n",
    "db.session.add(pertemuan1)\n",
    "db.session.add(pertemuan2)\n",
    "\n",
    "db.session.commit()\n",
    "\n",
    "absen1 = Absen(status=False, pertemuan_id=1, user_id=1)\n",
    "absen2 = Absen(status=True, pertemuan_id=1, user_id=2)\n",
    "\n",
    "db.session.add(absen1)\n",
    "db.session.add(absen2)\n",
    "\n",
    "db.session.commit()"
   ]
  },
  {
   "cell_type": "code",
   "execution_count": 39,
   "metadata": {},
   "outputs": [
    {
     "name": "stdout",
     "output_type": "stream",
     "text": [
      "[<Pertemuan Pertemuan 1>, <Pertemuan Pertemuan 2>]\n"
     ]
    }
   ],
   "source": [
    "absenPertemuan1 = Pertemuan().query.all()\n",
    "print(absenPertemuan1)"
   ]
  },
  {
   "cell_type": "code",
   "execution_count": 47,
   "metadata": {},
   "outputs": [
    {
     "name": "stdout",
     "output_type": "stream",
     "text": [
      "1\n"
     ]
    }
   ],
   "source": [
    "print(absenPertemuan1[0].absensi[0].user_id)"
   ]
  },
  {
   "cell_type": "code",
   "execution_count": 57,
   "metadata": {},
   "outputs": [
    {
     "name": "stdout",
     "output_type": "stream",
     "text": [
      "False\n",
      "True\n"
     ]
    }
   ],
   "source": [
    "user = User.query.all()\n",
    "for isi in user:\n",
    "    print(isi.absensi[0].status)\n",
    "    # print(isi)\n",
    "    \n",
    "    # for val in isi:\n",
    "    #     print(val, end=\" \")\n",
    "    # print()"
   ]
  },
  {
   "cell_type": "code",
   "execution_count": 55,
   "metadata": {},
   "outputs": [
    {
     "name": "stdout",
     "output_type": "stream",
     "text": [
      "['__class__', '__clause_element__', '__delattr__', '__dict__', '__dir__', '__doc__', '__eq__', '__format__', '__ge__', '__getattribute__', '__getitem__', '__gt__', '__hash__', '__init__', '__init_subclass__', '__iter__', '__le__', '__lt__', '__module__', '__ne__', '__new__', '__reduce__', '__reduce_ex__', '__repr__', '__setattr__', '__sizeof__', '__slots__', '__str__', '__subclasshook__', '__weakref__', '_add_context_option', '_aliased_generation', '_annotate', '_annotations', '_annotations_cache_key', '_assert_no_memoizations', '_auto_correlate', '_bind', '_clone', '_clone_annotations_traverse_internals', '_compile_context', '_compile_options', '_compile_state', '_correlate', '_current_path', '_deannotate', '_distinct', '_distinct_on', '_effective_plugin_target', '_enable_assertions', '_entity_from_pre_ent_zero', '_executable_traverse_internals', '_execution_options', '_filter_by_zero', '_final_statement', '_for_update_arg', '_from_obj', '_from_selectable', '_from_self', '_generate', '_get_bind_args', '_get_condition', '_get_existing_condition', '_get_impl', '_get_options', '_group_by_clauses', '_has_hints_traverse_internals', '_has_prefixes_traverse_internals', '_has_row_limiting_clause', '_has_suffixes_traverse_internals', '_having_criteria', '_hints', '_iter', '_iterate_from_elements', '_label_style', '_last_joined_entity', '_legacy_setup_joins', '_limit_clause', '_memoized_keys', '_memoized_select_entities', '_next_aliased_generation', '_no_clauseelement_condition', '_no_criterion_assertion', '_no_criterion_condition', '_no_limit_offset', '_no_statement_condition', '_offset_clause', '_only_full_mapper_zero', '_order_by_clauses', '_params', '_prefixes', '_propagate_attrs', '_raw_columns', '_reset_memoizations', '_role_name', '_set_compile_options', '_set_enable_single_crit', '_set_entities', '_set_lazyload_from', '_set_memoized_attribute', '_set_op', '_set_propagate_attrs', '_set_select_from', '_setup_joins', '_setup_prefixes', '_setup_suffixes', '_should_log_debug', '_should_log_info', '_statement', '_statement_20', '_statement_hints', '_suffixes', '_update_compile_options', '_values', '_where_criteria', '_with_annotations', '_with_compile_options', '_with_context_options', '_with_current_path', '_with_invoke_all_eagers', '_with_options', 'add_column', 'add_columns', 'add_entity', 'all', 'allows_lambda', 'append', 'apply_labels', 'as_scalar', 'attr', 'autoflush', 'bind', 'column_descriptions', 'correlate', 'count', 'cte', 'delete', 'dispatch', 'distinct', 'enable_assertions', 'enable_eagerloads', 'except_', 'except_all', 'execute', 'execution_options', 'exists', 'extend', 'filter', 'filter_by', 'first', 'first_or_404', 'from_self', 'from_statement', 'get', 'get_execution_options', 'get_label_style', 'get_or_404', 'group_by', 'having', 'instance', 'instances', 'intersect', 'intersect_all', 'is_delete', 'is_dml', 'is_insert', 'is_select', 'is_single_entity', 'is_text', 'is_update', 'join', 'label', 'lazy_loaded_from', 'limit', 'load_options', 'logger', 'memoized_attribute', 'memoized_instancemethod', 'merge_result', 'offset', 'one', 'one_or_404', 'one_or_none', 'only_return_tuples', 'options', 'order_by', 'outerjoin', 'paginate', 'params', 'populate_existing', 'prefix_with', 'query_class', 'remove', 'reset_joinpoint', 'scalar', 'scalar_subquery', 'select_entity_from', 'select_from', 'selectable', 'session', 'set_label_style', 'slice', 'statement', 'subquery', 'suffix_with', 'supports_execution', 'union', 'union_all', 'update', 'uses_inspection', 'value', 'values', 'where', 'whereclause', 'with_entities', 'with_for_update', 'with_hint', 'with_labels', 'with_parent', 'with_polymorphic', 'with_session', 'with_statement_hint', 'with_transformation', 'yield_per']\n"
     ]
    }
   ],
   "source": [
    "user = User.query.all()\n",
    "\n",
    "print(dir(user[0].absensi))"
   ]
  },
  {
   "cell_type": "code",
   "execution_count": 65,
   "metadata": {},
   "outputs": [
    {
     "name": "stdout",
     "output_type": "stream",
     "text": [
      "[<Pertemuan Pertemuan 1>, <Pertemuan Pertemuan 2>, <Pertemuan Pertemuan 3>]\n",
      "3\n",
      "None\n",
      "4\n",
      "3\n",
      "[<Pertemuan Pertemuan 1>, <Pertemuan Pertemuan 2>, <Pertemuan Pertemuan 3>]\n"
     ]
    }
   ],
   "source": [
    "pert = Pertemuan.query.all()\n",
    "print(pert)\n",
    "print(len(pert))\n",
    "\n",
    "nexpert = Pertemuan(title=\"Pertemuan 4\", materi=\"Basic HTML\")\n",
    "print(nexpert.id)\n",
    "db.session.add(nexpert)\n",
    "db.session.commit()\n",
    "print(nexpert.id)\n",
    "\n",
    "print(len(pert))\n",
    "print(pert)"
   ]
  },
  {
   "cell_type": "code",
   "execution_count": 64,
   "metadata": {},
   "outputs": [
    {
     "name": "stdout",
     "output_type": "stream",
     "text": [
      "[<Pertemuan Pertemuan 1>, <Pertemuan Pertemuan 2>, <Pertemuan Pertemuan 3>]\n",
      "3\n",
      "3\n",
      "[<Pertemuan Pertemuan 1>, <Pertemuan Pertemuan 2>, <Pertemuan Pertemuan 3>]\n"
     ]
    }
   ],
   "source": [
    "pert = Pertemuan.query.all()\n",
    "print(pert)\n",
    "print(len(pert))\n",
    "\n",
    "# nexpert = Pertemuan(title=\"Pertemuan 3\", materi=\"Flowcard\")\n",
    "# db.session.add(nexpert)\n",
    "# db.session.commit()\n",
    "\n",
    "# print(nexpert.id)\n",
    "\n",
    "print(len(pert))\n",
    "print(pert)"
   ]
  },
  {
   "cell_type": "code",
   "execution_count": 69,
   "metadata": {},
   "outputs": [
    {
     "name": "stdout",
     "output_type": "stream",
     "text": [
      "3\n"
     ]
    }
   ],
   "source": [
    "pertem3 = Pertemuan.query.filter_by(id=3).first()\n",
    "print(pertem3.id)"
   ]
  },
  {
   "cell_type": "code",
   "execution_count": 72,
   "metadata": {},
   "outputs": [],
   "source": [
    "pertemuan3 = Pertemuan.query.filter_by(id=3).first()\n",
    "allcalgot = User.query.all()\n",
    "for isi in allcalgot:\n",
    "    absen = Absen(pertemuan_id=pertemuan3.id, user_id=isi.id)\n",
    "    db.session.add(absen)\n",
    "db.session.commit()"
   ]
  },
  {
   "cell_type": "code",
   "execution_count": 74,
   "metadata": {},
   "outputs": [
    {
     "name": "stdout",
     "output_type": "stream",
     "text": [
      "<Pertemuan Pertemuan 4>\n"
     ]
    }
   ],
   "source": [
    "perte = Pertemuan.query.filter_by(id=4).first()\n",
    "print(perte)"
   ]
  },
  {
   "cell_type": "code",
   "execution_count": 88,
   "metadata": {},
   "outputs": [
    {
     "name": "stdout",
     "output_type": "stream",
     "text": [
      "Pertemuan 1\n",
      "calgot1 False\n",
      "Uki True\n",
      "\n"
     ]
    }
   ],
   "source": [
    "pertemuan = Pertemuan.query.all()\n",
    "for isi in pertemuan:\n",
    "    print(isi.title)\n",
    "    for abse in isi.absensi:\n",
    "        print(abse.user.username, abse.status)\n",
    "        # for calg in abse.user:\n",
    "        #     print(calg)\n",
    "    print()"
   ]
  },
  {
   "cell_type": "code",
   "execution_count": 96,
   "metadata": {},
   "outputs": [
    {
     "name": "stdout",
     "output_type": "stream",
     "text": [
      "calgot1 False False False \n",
      "Uki True False False \n",
      "calgot2 \n"
     ]
    }
   ],
   "source": [
    "user = User.query.all()\n",
    "for isi in user:\n",
    "    print(isi.username, end=\" \")\n",
    "    for i in isi.absensi:\n",
    "        print(i.status, end=\" \")\n",
    "    print()\n",
    "    # print(isi.absensi)"
   ]
  },
  {
   "cell_type": "code",
   "execution_count": 4,
   "metadata": {},
   "outputs": [
    {
     "name": "stdout",
     "output_type": "stream",
     "text": [
      "[<User calgot1>, <User Uki>, <User calgot2>, <User calgot3>]\n",
      "['calgot1', 'Uki', 'calgot2', 'calgot3']\n"
     ]
    }
   ],
   "source": [
    "from app.models import User\n",
    "from app import app\n",
    "\n",
    "app.app_context().push()\n",
    "\n",
    "user = User.query.all()\n",
    "daftar_nama = []\n",
    "for isi in user:\n",
    "    daftar_nama.append(isi.username)\n",
    "\n",
    "print(user)\n",
    "print(daftar_nama)"
   ]
  },
  {
   "cell_type": "code",
   "execution_count": 36,
   "metadata": {},
   "outputs": [
    {
     "name": "stdout",
     "output_type": "stream",
     "text": [
      "achmad syauki\n",
      "dzikri\n",
      "dayat\n"
     ]
    }
   ],
   "source": [
    "from app.opencvTools import OPENCV\n",
    "from app.models import User\n",
    "from app import app\n",
    "app.app_context().push()\n",
    "user = User.query.all()\n",
    "for isi in user:\n",
    "    print(isi.username)"
   ]
  },
  {
   "cell_type": "code",
   "execution_count": 2,
   "metadata": {},
   "outputs": [
    {
     "name": "stdout",
     "output_type": "stream",
     "text": [
      "[INFO]: Start training mohon tunggu\n",
      "[INFO]: Latih dataset selesai..\n",
      "[INFO]: Start training mohon tunggu\n",
      "[INFO]: Latih dataset selesai..\n",
      "[INFO]: Start training mohon tunggu\n",
      "[INFO]: Latih dataset selesai..\n",
      "[INFO]: Start training mohon tunggu\n",
      "[INFO]: Latih dataset selesai..\n",
      "[INFO]: Start training mohon tunggu\n",
      "[INFO]: Latih dataset selesai..\n"
     ]
    }
   ],
   "source": [
    "import os\n",
    "from app.opencvTools import OPENCV\n",
    "from app.models import User\n",
    "from app import app\n",
    "\n",
    "app.app_context().push()\n",
    "\n",
    "opencv = OPENCV()\n",
    "allUser = User.query.all()\n",
    "\n",
    "# user_uki = User.query.filter_by(username='achmad syauki').first()\n",
    "# opencv.renameSampleimg(user_uki)\n",
    "\n",
    "fnama = []\n",
    "for isi in allUser:\n",
    "    fnama.append(isi.username)\n",
    "\n",
    "def getDataUser(nama):\n",
    "    return User.query.filter_by(username=nama).first()\n",
    "\n",
    "\n",
    "\n",
    "uki = opencv.seleksi_sampleimg(getDataUser('achmad syauki'),fnama)\n",
    "dzikri = opencv.seleksi_sampleimg(getDataUser('dzikri'),fnama)\n",
    "dayat = opencv.seleksi_sampleimg(getDataUser('dayat'),fnama)\n",
    "maman = opencv.seleksi_sampleimg(getDataUser('maman'),fnama)\n",
    "darius = opencv.seleksi_sampleimg(getDataUser('darius'),fnama)\n",
    "\n"
   ]
  },
  {
   "cell_type": "code",
   "execution_count": 4,
   "metadata": {},
   "outputs": [
    {
     "data": {
      "text/plain": [
       "[['achmad syauki', 82, 'sampleimg/achmad syaukiachmad syauki.1.4.jpg'],\n",
       " ['achmad syauki', 82, 'sampleimg/achmad syaukiachmad syauki.1.8.jpg'],\n",
       " ['achmad syauki', 91, 'sampleimg/achmad syaukiachmad syauki.1.13.jpg'],\n",
       " ['achmad syauki', 88, 'sampleimg/achmad syaukiachmad syauki.1.14.jpg'],\n",
       " ['achmad syauki', 88, 'sampleimg/achmad syaukiachmad syauki.1.12.jpg'],\n",
       " ['achmad syauki', 90, 'sampleimg/achmad syaukiachmad syauki.1.2.jpg'],\n",
       " ['achmad syauki', 82, 'sampleimg/achmad syaukiachmad syauki.1.3.jpg'],\n",
       " ['achmad syauki', 93, 'sampleimg/achmad syaukiachmad syauki.1.9.jpg'],\n",
       " ['achmad syauki', 86, 'sampleimg/achmad syaukiachmad syauki.1.10.jpg'],\n",
       " ['achmad syauki', 88, 'sampleimg/achmad syaukiachmad syauki.1.6.jpg'],\n",
       " ['achmad syauki', 82, 'sampleimg/achmad syaukiachmad syauki.1.7.jpg'],\n",
       " ['achmad syauki', 83, 'sampleimg/achmad syaukiachmad syauki.1.17.jpg'],\n",
       " ['achmad syauki', 91, 'sampleimg/achmad syaukiachmad syauki.1.15.jpg'],\n",
       " ['achmad syauki', 83, 'sampleimg/achmad syaukiachmad syauki.1.5.jpg'],\n",
       " ['achmad syauki', 87, 'sampleimg/achmad syaukiachmad syauki.1.11.jpg']]"
      ]
     },
     "execution_count": 4,
     "metadata": {},
     "output_type": "execute_result"
    }
   ],
   "source": [
    "uki"
   ]
  },
  {
   "cell_type": "code",
   "execution_count": 5,
   "metadata": {},
   "outputs": [
    {
     "data": {
      "text/plain": [
       "[['achmad syauki', 82, 'sampleimg/achmad syaukiachmad syauki.1.4.jpg'],\n",
       " ['achmad syauki', 82, 'sampleimg/achmad syaukiachmad syauki.1.8.jpg'],\n",
       " ['achmad syauki', 82, 'sampleimg/achmad syaukiachmad syauki.1.9.jpg'],\n",
       " ['achmad syauki', 82, 'sampleimg/achmad syaukiachmad syauki.1.10.jpg'],\n",
       " ['achmad syauki', 88, 'sampleimg/achmad syaukiachmad syauki.1.6.jpg'],\n",
       " ['achmad syauki', 83, 'sampleimg/achmad syaukiachmad syauki.1.1.jpg'],\n",
       " ['achmad syauki', 82, 'sampleimg/achmad syaukiachmad syauki.1.7.jpg'],\n",
       " ['achmad syauki', 83, 'sampleimg/achmad syaukiachmad syauki.1.5.jpg']]"
      ]
     },
     "execution_count": 5,
     "metadata": {},
     "output_type": "execute_result"
    }
   ],
   "source": [
    "uki"
   ]
  },
  {
   "cell_type": "code",
   "execution_count": 12,
   "metadata": {},
   "outputs": [
    {
     "data": {
      "text/plain": [
       "[['dzikri', 89, 'sampleimg/dzikridzikri.2.3.jpg'],\n",
       " ['dzikri', 91, 'sampleimg/dzikridzikri.2.8.jpg'],\n",
       " ['dzikri', 91, 'sampleimg/dzikridzikri.2.4.jpg'],\n",
       " ['dzikri', 93, 'sampleimg/dzikridzikri.2.5.jpg'],\n",
       " ['dzikri', 91, 'sampleimg/dzikridzikri.2.10.jpg'],\n",
       " ['dzikri', 91, 'sampleimg/dzikridzikri.2.7.jpg'],\n",
       " ['dzikri', 91, 'sampleimg/dzikridzikri.2.1.jpg'],\n",
       " ['dzikri', 90, 'sampleimg/dzikridzikri.2.6.jpg'],\n",
       " ['dzikri', 90, 'sampleimg/dzikridzikri.2.9.jpg'],\n",
       " ['dzikri', 90, 'sampleimg/dzikridzikri.2.2.jpg']]"
      ]
     },
     "execution_count": 12,
     "metadata": {},
     "output_type": "execute_result"
    }
   ],
   "source": [
    "\n",
    "dzikri"
   ]
  },
  {
   "cell_type": "code",
   "execution_count": 7,
   "metadata": {},
   "outputs": [
    {
     "data": {
      "text/plain": [
       "[['dayat', 84, 'sampleimg/dayatdayat.3.7.jpg'],\n",
       " ['dayat', 87, 'sampleimg/dayatdayat.3.9.jpg'],\n",
       " ['dayat', 88, 'sampleimg/dayatdayat.3.5.jpg'],\n",
       " ['dayat', 89, 'sampleimg/dayatdayat.3.1.jpg'],\n",
       " ['dayat', 84, 'sampleimg/dayatdayat.3.6.jpg'],\n",
       " ['dayat', 90, 'sampleimg/dayatdayat.3.8.jpg'],\n",
       " ['dayat', 90, 'sampleimg/dayatdayat.3.3.jpg'],\n",
       " ['dayat', 86, 'sampleimg/dayatdayat.3.2.jpg'],\n",
       " ['dayat', 86, 'sampleimg/dayatdayat.3.10.jpg'],\n",
       " ['dayat', 86, 'sampleimg/dayatdayat.3.4.jpg']]"
      ]
     },
     "execution_count": 7,
     "metadata": {},
     "output_type": "execute_result"
    }
   ],
   "source": [
    "\n",
    "dayat"
   ]
  },
  {
   "cell_type": "code",
   "execution_count": 5,
   "metadata": {},
   "outputs": [
    {
     "data": {
      "text/plain": [
       "[['maman', 85, 'sampleimg/mamanmaman.6.4.jpg'],\n",
       " ['maman', 85, 'sampleimg/mamanmaman.6.9.jpg'],\n",
       " ['maman', 91, 'sampleimg/mamanmaman.6.5.jpg'],\n",
       " ['maman', 90, 'sampleimg/mamanmaman.6.15.jpg'],\n",
       " ['maman', 85, 'sampleimg/mamanmaman.6.10.jpg'],\n",
       " ['maman', 92, 'sampleimg/mamanmaman.6.13.jpg'],\n",
       " ['maman', 85, 'sampleimg/mamanmaman.6.6.jpg'],\n",
       " ['maman', 87, 'sampleimg/mamanmaman.6.1.jpg'],\n",
       " ['maman', 85, 'sampleimg/mamanmaman.6.2.jpg'],\n",
       " ['maman', 85, 'sampleimg/mamanmaman.6.11.jpg'],\n",
       " ['maman', 86, 'sampleimg/mamanmaman.6.14.jpg'],\n",
       " ['maman', 90, 'sampleimg/mamanmaman.6.8.jpg'],\n",
       " ['maman', 85, 'sampleimg/mamanmaman.6.3.jpg'],\n",
       " ['maman', 84, 'sampleimg/mamanmaman.6.12.jpg'],\n",
       " ['maman', 91, 'sampleimg/mamanmaman.6.7.jpg']]"
      ]
     },
     "execution_count": 5,
     "metadata": {},
     "output_type": "execute_result"
    }
   ],
   "source": [
    "maman"
   ]
  },
  {
   "cell_type": "code",
   "execution_count": 9,
   "metadata": {},
   "outputs": [
    {
     "name": "stdout",
     "output_type": "stream",
     "text": [
      "False\n"
     ]
    }
   ],
   "source": [
    "print(os.path.exists('sampleimg/achmad syauki/achmad syauki.1.11.jpg'))\n"
   ]
  },
  {
   "cell_type": "code",
   "execution_count": 3,
   "metadata": {},
   "outputs": [
    {
     "name": "stdout",
     "output_type": "stream",
     "text": [
      "a\n"
     ]
    }
   ],
   "source": [
    "print(\"a\")"
   ]
  },
  {
   "cell_type": "code",
   "execution_count": 31,
   "metadata": {},
   "outputs": [
    {
     "name": "stdout",
     "output_type": "stream",
     "text": [
      "Research Group @ COCONUT Computer Club\n"
     ]
    },
    {
     "ename": "TypeError",
     "evalue": "'HTTPResponse' object is not callable",
     "output_type": "error",
     "traceback": [
      "\u001b[0;31m---------------------------------------------------------------------------\u001b[0m",
      "\u001b[0;31mTypeError\u001b[0m                                 Traceback (most recent call last)",
      "Cell \u001b[0;32mIn[31], line 15\u001b[0m\n\u001b[1;32m     12\u001b[0m coconut \u001b[39m=\u001b[39m soup\u001b[39m.\u001b[39mfind_all(\u001b[39m'\u001b[39m\u001b[39mdiv\u001b[39m\u001b[39m'\u001b[39m,\u001b[39m'\u001b[39m\u001b[39mheadline\u001b[39m\u001b[39m'\u001b[39m)\n\u001b[1;32m     13\u001b[0m \u001b[39mprint\u001b[39m(coconut[\u001b[39m0\u001b[39m]\u001b[39m.\u001b[39mget_text())\n\u001b[0;32m---> 15\u001b[0m \u001b[39mwith\u001b[39;00m \u001b[39mopen\u001b[39;49m(\u001b[39m'\u001b[39;49m\u001b[39mfilef.txt\u001b[39;49m\u001b[39m'\u001b[39;49m, \u001b[39m'\u001b[39;49m\u001b[39ma\u001b[39;49m\u001b[39m'\u001b[39;49m) \u001b[39mas\u001b[39;00m f:\n\u001b[1;32m     16\u001b[0m     \u001b[39mfor\u001b[39;00m element \u001b[39min\u001b[39;00m coconut:\n\u001b[1;32m     17\u001b[0m         \u001b[39m# Get the text from each 'headline' element and write it to the file\u001b[39;00m\n\u001b[1;32m     18\u001b[0m         text \u001b[39m=\u001b[39m element\u001b[39m.\u001b[39mget_text()\n",
      "\u001b[0;31mTypeError\u001b[0m: 'HTTPResponse' object is not callable"
     ]
    }
   ],
   "source": [
    "from bs4 import BeautifulSoup\n",
    "from urllib.request import urlopen, Request\n",
    "\n",
    "\n",
    "url = 'https://coconut.or.id/'\n",
    "req = Request(url, headers={'User-Agent': 'Mozilla/5.0'})\n",
    "openurl = urlopen(req, timeout=10)\n",
    "soup = BeautifulSoup(openurl, 'html.parser')\n",
    "\n",
    "\n",
    "\n",
    "coconut = soup.find_all('div','headline')\n",
    "print(coconut[0].get_text())\n",
    "\n",
    "with open('filef.txt', 'a') as f:\n",
    "    for element in coconut:\n",
    "        # Get the text from each 'headline' element and write it to the file\n",
    "        text = element.get_text()\n",
    "        f.write(text + '\\n')"
   ]
  },
  {
   "cell_type": "code",
   "execution_count": 32,
   "metadata": {},
   "outputs": [
    {
     "ename": "TypeError",
     "evalue": "'HTTPResponse' object is not callable",
     "output_type": "error",
     "traceback": [
      "\u001b[0;31m---------------------------------------------------------------------------\u001b[0m",
      "\u001b[0;31mTypeError\u001b[0m                                 Traceback (most recent call last)",
      "Cell \u001b[0;32mIn[32], line 1\u001b[0m\n\u001b[0;32m----> 1\u001b[0m f \u001b[39m=\u001b[39m \u001b[39mopen\u001b[39;49m(\u001b[39m'\u001b[39;49m\u001b[39mf.txt\u001b[39;49m\u001b[39m'\u001b[39;49m, \u001b[39m'\u001b[39;49m\u001b[39ma\u001b[39;49m\u001b[39m'\u001b[39;49m)\n",
      "\u001b[0;31mTypeError\u001b[0m: 'HTTPResponse' object is not callable"
     ]
    }
   ],
   "source": [
    "f = open('f.txt', 'a')"
   ]
  },
  {
   "cell_type": "code",
   "execution_count": 35,
   "metadata": {},
   "outputs": [
    {
     "name": "stdout",
     "output_type": "stream",
     "text": [
      "False\n"
     ]
    }
   ],
   "source": [
    "if os.path.exists('sampleimg/dzikri'):\n",
    "    print(True)\n",
    "else:\n",
    "    print(\"False\")"
   ]
  },
  {
   "cell_type": "code",
   "execution_count": 18,
   "metadata": {},
   "outputs": [
    {
     "name": "stdout",
     "output_type": "stream",
     "text": [
      "[1, 5, 2, 7, 9, 6]\n"
     ]
    }
   ],
   "source": [
    "def lststr(lss):\n",
    "    hasil = str(ls)\n",
    "    print(hasil)\n",
    "\n",
    "ls = [1,5,2,7,9,6]\n",
    "\n",
    "lststr(ls)"
   ]
  },
  {
   "cell_type": "code",
   "execution_count": 1,
   "metadata": {},
   "outputs": [
    {
     "name": "stderr",
     "output_type": "stream",
     "text": [
      "/home/ahmad/anaconda3/lib/python3.10/site-packages/sklearn/cluster/_kmeans.py:870: FutureWarning: The default value of `n_init` will change from 10 to 'auto' in 1.4. Set the value of `n_init` explicitly to suppress the warning\n",
      "  warnings.warn(\n"
     ]
    },
    {
     "data": {
      "image/png": "[encoded data removed]",
      "text/plain": [
       "<Figure size 640x480 with 1 Axes>"
      ]
     },
     "metadata": {},
     "output_type": "display_data"
    }
   ],
   "source": [
    "import numpy as np\n",
    "import matplotlib.pyplot as plt\n",
    "from sklearn.cluster import KMeans\n",
    "from sklearn.datasets import make_blobs\n",
    "\n",
    "# Membuat data contoh dengan 3 kelompok\n",
    "n_samples = 300\n",
    "n_features = 2\n",
    "n_clusters = 3\n",
    "\n",
    "# Membuat data contoh dengan fungsi make_blobs\n",
    "X, _ = make_blobs(n_samples=n_samples, n_features=n_features, centers=n_clusters, random_state=42)\n",
    "\n",
    "# Menggunakan algoritma K-Means dengan 3 kelompok\n",
    "kmeans = KMeans(n_clusters=n_clusters)\n",
    "kmeans.fit(X)\n",
    "\n",
    "# Mendapatkan lokasi dari centroid\n",
    "centroids = kmeans.cluster_centers_\n",
    "\n",
    "# Mendapatkan label kelompok untuk setiap data\n",
    "labels = kmeans.labels_\n",
    "\n",
    "# Plot hasil clustering\n",
    "plt.scatter(X[:, 0], X[:, 1], c=labels)\n",
    "plt.scatter(centroids[:, 0], centroids[:, 1], marker='X', s=200, c='red', label='Centroids')\n",
    "plt.legend()\n",
    "plt.title('Hasil K-Means Clustering')\n",
    "plt.xlabel('Fitur 1')\n",
    "plt.ylabel('Fitur 2')\n",
    "plt.show()\n"
   ]
  },
  {
   "cell_type": "code",
   "execution_count": null,
   "metadata": {},
   "outputs": [],
   "source": []
  }
 ],
 "metadata": {
  "kernelspec": {
   "display_name": "Python 3",
   "language": "python",
   "name": "python3"
  },
  "language_info": {
   "codemirror_mode": {
    "name": "ipython",
    "version": 3
   },
   "file_extension": ".py",
   "mimetype": "text/x-python",
   "name": "python",
   "nbconvert_exporter": "python",
   "pygments_lexer": "ipython3",
   "version": "3.10.9"
  },
  "orig_nbformat": 4
 },
 "nbformat": 4,
 "nbformat_minor": 2
}
